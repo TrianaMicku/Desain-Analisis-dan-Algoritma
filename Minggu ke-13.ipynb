{
 "cells": [
  {
   "cell_type": "markdown",
   "metadata": {},
   "source": [
    "## Studi Kasus Fraud Analytics"
   ]
  },
  {
   "cell_type": "markdown",
   "metadata": {},
   "source": [
    "Fraud Analytics menerapkan social network analytics dengan menggunakan library NetworkX."
   ]
  },
  {
   "cell_type": "code",
   "execution_count": 6,
   "metadata": {},
   "outputs": [],
   "source": [
    "import networkx as nx\n",
    "import matplotlib.pyplot as plt"
   ]
  },
  {
   "cell_type": "code",
   "execution_count": 7,
   "metadata": {},
   "outputs": [],
   "source": [
    "vertices = range(1,10)\n",
    "edges = [(7,2),(2,3),(7,4),(4,5),(7,3),(7,5),(1,6),(1,7),(2,8),(2,9)]"
   ]
  },
  {
   "cell_type": "code",
   "execution_count": 8,
   "metadata": {},
   "outputs": [],
   "source": [
    "#susun vertices menjadi nodes dan egdes dalam grafik G\n",
    "\n",
    "G = nx.Graph()"
   ]
  },
  {
   "cell_type": "code",
   "execution_count": 9,
   "metadata": {},
   "outputs": [],
   "source": [
    "G.add_nodes_from(vertices)\n",
    "G.add_edges_from(edges)\n",
    "pos = nx.spring_layout(G)"
   ]
  },
  {
   "cell_type": "code",
   "execution_count": 15,
   "metadata": {},
   "outputs": [
    {
     "data": {
      "text/plain": [
       "{1: Text(0.6160272112398697, -0.2831197310129536, '1 NF'),\n",
       " 2: Text(-0.48501280818381703, -0.15689109921898975, '2 F'),\n",
       " 3: Text(-0.48746411009831064, 0.28323827328205803, '3 NF'),\n",
       " 4: Text(0.38194101110345025, 0.7535003881046424, '4 NF'),\n",
       " 5: Text(0.042050675855785404, 0.8533282623622639, '5 F'),\n",
       " 6: Text(0.9366189547938146, -0.7971284720370131, '6 F'),\n",
       " 7: Text(0.06539309855617935, 0.2606505343319233, '7 F'),\n",
       " 8: Text(-0.06955403326697256, -0.38928451249374196, '8 NF'),\n",
       " 9: Text(-1.0, -0.5242936433181894, '9 NF')}"
      ]
     },
     "execution_count": 15,
     "metadata": {},
     "output_type": "execute_result"
    },
    {
     "data": {
      "image/png": "[encoded data removed]",
      "text/plain": [
       "<Figure size 432x288 with 1 Axes>"
      ]
     },
     "metadata": {},
     "output_type": "display_data"
    }
   ],
   "source": [
    "nx.draw_networkx_nodes(G,pos,nodelist = [1,4,3,8,9],with_labels=True,node_color='g',node_size=1300)\n",
    "nx.draw_networkx_nodes(G,pos,nodelist = [2,5,6,7],with_labels=True,node_color='r',node_size=1300)\n",
    "nx.draw_networkx_edges(G,pos,edges,width=3,alpha=0.5,edge_color='b')\n",
    "labels={}\n",
    "labels[1]=r'1 NF'\n",
    "labels[2]=r'2 F'\n",
    "labels[3]=r'3 NF'\n",
    "labels[4]=r'4 NF'\n",
    "labels[5]=r'5 F'\n",
    "labels[6]=r'6 F'\n",
    "labels[7]=r'7 F'\n",
    "labels[8]=r'8 NF'\n",
    "labels[9]=r'9 NF'\n",
    "\n",
    "nx.draw_networkx_labels(G,pos,labels,font_size=16)"
   ]
  },
  {
   "cell_type": "code",
   "execution_count": null,
   "metadata": {},
   "outputs": [],
   "source": []
  },
  {
   "cell_type": "code",
   "execution_count": null,
   "metadata": {},
   "outputs": [],
   "source": []
  }
 ],
 "metadata": {
  "kernelspec": {
   "display_name": "Python 3",
   "language": "python",
   "name": "python3"
  },
  "language_info": {
   "codemirror_mode": {
    "name": "ipython",
    "version": 3
   },
   "file_extension": ".py",
   "mimetype": "text/x-python",
   "name": "python",
   "nbconvert_exporter": "python",
   "pygments_lexer": "ipython3",
   "version": "3.8.3"
  }
 },
 "nbformat": 4,
 "nbformat_minor": 4
}
