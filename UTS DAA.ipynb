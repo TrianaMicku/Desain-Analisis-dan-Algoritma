{
 "cells": [
  {
   "cell_type": "markdown",
   "metadata": {},
   "source": [
    "# 1. Struktur data"
   ]
  },
  {
   "cell_type": "markdown",
   "metadata": {},
   "source": [
    "a. List -> List biasanya digunakan untuk menyimpan sekumpulan data yang memiliki kesamaan tipe data, namun kita juga bisa menyimpan beragam tipe data yang berbeda kedalam list. "
   ]
  },
  {
   "cell_type": "code",
   "execution_count": 87,
   "metadata": {},
   "outputs": [],
   "source": [
    "aList = ['Sisil', 19, 'Tata', 24]"
   ]
  },
  {
   "cell_type": "code",
   "execution_count": 88,
   "metadata": {},
   "outputs": [
    {
     "data": {
      "text/plain": [
       "['Sisil', 19, 'Tata', 24]"
      ]
     },
     "execution_count": 88,
     "metadata": {},
     "output_type": "execute_result"
    }
   ],
   "source": [
    "aList"
   ]
  },
  {
   "cell_type": "markdown",
   "metadata": {},
   "source": [
    "b. Tuples -> Tupple tidak dapat diubah seperti list, hanya dapat diakses saja."
   ]
  },
  {
   "cell_type": "code",
   "execution_count": 89,
   "metadata": {},
   "outputs": [
    {
     "name": "stdout",
     "output_type": "stream",
     "text": [
      "('Jakarta', 'Bandung', 'Sukabumi', 'Makasar')\n"
     ]
    }
   ],
   "source": [
    "bin_kota = ('Jakarta', 'Bandung', 'Sukabumi', 'Makasar')\n",
    "print (bin_kota)"
   ]
  },
  {
   "cell_type": "markdown",
   "metadata": {},
   "source": [
    "c. Dictionary -> Data kelompok yang terdiri dari pasangan kunci dan nilai yang tidak bisa diurutkan."
   ]
  },
  {
   "cell_type": "code",
   "execution_count": 90,
   "metadata": {},
   "outputs": [],
   "source": [
    "bin_kota = {\n",
    "    \"Jakarta\" : \"Jakarta Selatan\",\n",
    "    \"Tangerang\" : \"Tangerang Selatan\",\n",
    "    \"Jawa\" : \"Jawa Tengah\"\n",
    "}"
   ]
  },
  {
   "cell_type": "code",
   "execution_count": 91,
   "metadata": {},
   "outputs": [
    {
     "name": "stdout",
     "output_type": "stream",
     "text": [
      "{'Jakarta': 'Jakarta Selatan', 'Tangerang': 'Tangerang Selatan', 'Jawa': 'Jawa Tengah'}\n"
     ]
    }
   ],
   "source": [
    "print(bin_kota)"
   ]
  },
  {
   "cell_type": "code",
   "execution_count": 92,
   "metadata": {},
   "outputs": [
    {
     "data": {
      "text/plain": [
       "'Tangerang Selatan'"
      ]
     },
     "execution_count": 92,
     "metadata": {},
     "output_type": "execute_result"
    }
   ],
   "source": [
    " bin_kota.get('Tangerang')"
   ]
  },
  {
   "cell_type": "code",
   "execution_count": 93,
   "metadata": {},
   "outputs": [
    {
     "data": {
      "text/plain": [
       "'Jawa Tengah'"
      ]
     },
     "execution_count": 93,
     "metadata": {},
     "output_type": "execute_result"
    }
   ],
   "source": [
    "bin_kota['Jawa']"
   ]
  },
  {
   "cell_type": "markdown",
   "metadata": {},
   "source": [
    "d. Sets -> Set memiliki anggota yang unik (tidak ada duplikasi) atau elemen yang tidak diurutkan. Jadi misalnya kalau meletakkan dua anggota yang sama di dalam set, maka otomatis set akan menghilangkan yang salah satunya."
   ]
  },
  {
   "cell_type": "code",
   "execution_count": 94,
   "metadata": {},
   "outputs": [
    {
     "name": "stdout",
     "output_type": "stream",
     "text": [
      "{'Sea', 'Sky'}\n"
     ]
    }
   ],
   "source": [
    "blue = {'Sky', 'Sea'}\n",
    "print (blue)"
   ]
  },
  {
   "cell_type": "code",
   "execution_count": 95,
   "metadata": {},
   "outputs": [
    {
     "name": "stdout",
     "output_type": "stream",
     "text": [
      "{'Bone', 'Milk'}\n"
     ]
    }
   ],
   "source": [
    "white = {'Milk', 'Bone'}\n",
    "print (white)"
   ]
  },
  {
   "cell_type": "code",
   "execution_count": 96,
   "metadata": {},
   "outputs": [
    {
     "name": "stdout",
     "output_type": "stream",
     "text": [
      "The union  of white & blue sets is {'Bone', 'Sea', 'Milk', 'Sky'}\n"
     ]
    }
   ],
   "source": [
    "print(f\"The union  of white & blue sets is {blue|white}\")"
   ]
  },
  {
   "cell_type": "markdown",
   "metadata": {},
   "source": [
    "e. DataFrame -> Struktur 2 dimensi untuk menyimpan data 2 dimensi"
   ]
  },
  {
   "cell_type": "code",
   "execution_count": 97,
   "metadata": {},
   "outputs": [
    {
     "name": "stdout",
     "output_type": "stream",
     "text": [
      "   no   name  color decision\n",
      "0  1.  Fatin   Blue     True\n",
      "1  2.  Sarah  White     True\n",
      "2  3.  Titan  Brown    False\n"
     ]
    }
   ],
   "source": [
    "import pandas as pd\n",
    "df = pd.DataFrame([\n",
    "    ['1.', 'Fatin', 'Blue', 'True'],\n",
    "    ['2.', 'Sarah', 'White', 'True'],\n",
    "    ['3.','Titan', 'Brown', 'False']])\n",
    "df.columns = ['no', ' name', 'color', 'decision']\n",
    "print(df)"
   ]
  },
  {
   "cell_type": "markdown",
   "metadata": {},
   "source": [
    "# 2. Pseudocode Algoritma Binary Search "
   ]
  },
  {
   "cell_type": "markdown",
   "metadata": {},
   "source": [
    "Binary search menentukan data tengah & membandingkannya dengan data yang dicari. Jika nanti hasilnya akan sama, maka pencarian berhenti. Bila data lebih besar/lebih kecil, mereka akan bertukar tempat. Tetapi, Binary search ini akan mengurutkan data dari yang terkecil terlebih dahulu, jadi data yang lebih besar akan ditempatkan diterakhir. Bila kasusnya seperti pada soal, maka angka 80 akan bertukar tempat dengan angka 56. Karena, 80 lebih besar dibanding angka 56. Maka urutannya menjadi seperti [13, 25, 37, 42, 56, 80, 97]:"
   ]
  },
  {
   "cell_type": "markdown",
   "metadata": {},
   "source": [
    "# 3. ['upjbintaro', 'upjjaya', 'upjkampus', 'upjtangsel', 'upj2020']"
   ]
  },
  {
   "cell_type": "code",
   "execution_count": 98,
   "metadata": {},
   "outputs": [],
   "source": [
    "def commonPrefix(str1,str2):\n",
    "    n1=len(str1);n2=len(str2)\n",
    "    i,j=0,0\n",
    "    s=\"\"\n",
    "    while i<n1 and j<n2:\n",
    "        if str1[i]==str2[j]:\n",
    "            s+=str1[i]\n",
    "            i+=1\n",
    "            j+=1\n",
    "        else:\n",
    "            break\n",
    "    return s"
   ]
  },
  {
   "cell_type": "code",
   "execution_count": 99,
   "metadata": {},
   "outputs": [],
   "source": [
    "def longestCommonPrefix(arr,low,high):\n",
    "    if low==high:\n",
    "        return arr[low]\n",
    "    mid=(low+high)//2\n",
    "    result1=longestCommonPrefix(arr,low,mid)\n",
    "    result2=longestCommonPrefix(arr,mid+1,high)\n",
    "    result=commonPrefix(result1,result2)\n",
    "    return result"
   ]
  },
  {
   "cell_type": "code",
   "execution_count": 100,
   "metadata": {},
   "outputs": [],
   "source": [
    "arr=['upjbintaro', 'upjjaya', 'upjkampus', 'upjtangsel', 'upj2020']"
   ]
  },
  {
   "cell_type": "code",
   "execution_count": 101,
   "metadata": {},
   "outputs": [],
   "source": [
    "result=longestCommonPrefix(arr,0,len(arr)-1)"
   ]
  },
  {
   "cell_type": "code",
   "execution_count": 102,
   "metadata": {},
   "outputs": [
    {
     "name": "stdout",
     "output_type": "stream",
     "text": [
      "upj\n"
     ]
    }
   ],
   "source": [
    "print (result)"
   ]
  },
  {
   "cell_type": "markdown",
   "metadata": {},
   "source": [
    "# 4. Urutan Jumlah Mahasiswa & Angkatan"
   ]
  },
  {
   "cell_type": "code",
   "execution_count": 142,
   "metadata": {},
   "outputs": [
    {
     "name": "stdout",
     "output_type": "stream",
     "text": [
      "Tahun Banyak mahasiswa\n",
      "2019   78\n",
      "2015   89\n",
      "2020   96\n",
      "2016   103\n",
      "2018   150\n",
      "2017   225\n"
     ]
    }
   ],
   "source": [
    "import sys \n",
    "jumlah = [89, 103, 225, 150, 78, 96] \n",
    "\n",
    "for i in range(len(jumlah)): \n",
    "    min = i \n",
    "    for j in range(i+1, len(jumlah)): \n",
    "        if jumlah[min] > jumlah[j]: \n",
    "            min = j\n",
    "    jumlah[i], jumlah[min] = jumlah[min], jumlah[i] \n",
    "\n",
    " \n",
    "print (\"Tahun Banyak mahasiswa\") \n",
    "for i in range(len(jumlah)): \n",
    "  def tahun(x):\n",
    "    switcher = { \n",
    "        89:\"2015\",\n",
    "        103: \"2016\",\n",
    "        225: \"2017\",\n",
    "        150: \"2018\",\n",
    "        78: \"2019\",\n",
    "        96: \"2020\",\n",
    "      }\n",
    "    return switcher.get(x, \"invalid year\")\n",
    "\n",
    "for i in range(len(jumlah)):\n",
    "  x = jumlah[i]\n",
    "  print( tahun(x),\" \", jumlah[i])"
   ]
  },
  {
   "cell_type": "code",
   "execution_count": null,
   "metadata": {},
   "outputs": [],
   "source": []
  },
  {
   "cell_type": "code",
   "execution_count": null,
   "metadata": {},
   "outputs": [],
   "source": []
  },
  {
   "cell_type": "code",
   "execution_count": null,
   "metadata": {},
   "outputs": [],
   "source": []
  },
  {
   "cell_type": "code",
   "execution_count": null,
   "metadata": {},
   "outputs": [],
   "source": []
  }
 ],
 "metadata": {
  "kernelspec": {
   "display_name": "Python 3",
   "language": "python",
   "name": "python3"
  },
  "language_info": {
   "codemirror_mode": {
    "name": "ipython",
    "version": 3
   },
   "file_extension": ".py",
   "mimetype": "text/x-python",
   "name": "python",
   "nbconvert_exporter": "python",
   "pygments_lexer": "ipython3",
   "version": "3.8.3"
  }
 },
 "nbformat": 4,
 "nbformat_minor": 4
}
