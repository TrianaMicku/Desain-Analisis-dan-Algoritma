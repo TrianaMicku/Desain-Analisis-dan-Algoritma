{
 "cells": [
  {
   "cell_type": "markdown",
   "metadata": {},
   "source": [
    "# 1. Merge Sort \n",
    "## [21,5,9,16,30,7]"
   ]
  },
  {
   "cell_type": "code",
   "execution_count": 11,
   "metadata": {},
   "outputs": [],
   "source": [
    "def mergeSort(list):\n",
    "    if len(list) > 1:\n",
    "        mid = len(list) // 2\n",
    "        left = list[:mid]\n",
    "        right = list[mid:]\n",
    "        \n",
    "        mergeSort(left)\n",
    "        mergeSort(right)\n",
    "        \n",
    "        a=0\n",
    "        b=0\n",
    "        c=0\n",
    "        \n",
    "        while a < len(left) and b < len(right):\n",
    "            \n",
    "            if left[a] < right[b]:\n",
    "                list[c] = left[a]\n",
    "                a+=1\n",
    "            else:\n",
    "                list[c] = right[b]\n",
    "                b+=1\n",
    "                \n",
    "            c+=1\n",
    "        \n",
    "        while a < len(left):\n",
    "            list[c] = left[a]\n",
    "            a+=1\n",
    "            c+=1\n",
    "            \n",
    "        while b < len(right):\n",
    "            list[c] = right[b]\n",
    "            b+=1\n",
    "            c+=1\n",
    "            \n",
    "    "
   ]
  },
  {
   "cell_type": "code",
   "execution_count": 12,
   "metadata": {},
   "outputs": [
    {
     "name": "stdout",
     "output_type": "stream",
     "text": [
      "List sebelum sort :  [21, 5, 9, 16, 30, 7]\n",
      "List setelah sort :  [5, 7, 9, 16, 21, 30]\n"
     ]
    }
   ],
   "source": [
    "list = [21,5,9,16,30,7]\n",
    "print(\"List sebelum sort : \", list)\n",
    "mergeSort(list)\n",
    "print(\"List setelah sort : \", list)"
   ]
  },
  {
   "cell_type": "markdown",
   "metadata": {},
   "source": [
    "# 2. Quick Sort\n",
    "## [17,12,57,8,16,25]"
   ]
  },
  {
   "cell_type": "code",
   "execution_count": 13,
   "metadata": {},
   "outputs": [],
   "source": [
    "def partition(arr,left,right):\n",
    "    a = (left-1)\n",
    "    pivot = arr[right]\n",
    "    \n",
    "    for b in range(left,right):\n",
    "        \n",
    "        if arr[b] <= pivot:\n",
    "            a+=1\n",
    "            arr[a],arr[b]=arr[b],arr[a]\n",
    "    \n",
    "    arr[a+1],arr[right] = arr[right],arr[a+1]\n",
    "    return (a+1)\n",
    "\n",
    "def quickSort(arr,left,right):\n",
    "    if len(arr) == 1:\n",
    "        return arr\n",
    "    if left < right:\n",
    "        \n",
    "        pi = partition(arr,left,right)\n",
    "        quickSort(arr,left,pi-1)\n",
    "        quickSort(arr,pi+1,right)"
   ]
  },
  {
   "cell_type": "code",
   "execution_count": 14,
   "metadata": {},
   "outputs": [
    {
     "name": "stdout",
     "output_type": "stream",
     "text": [
      "Sebelum :  [17, 12, 57, 8, 16, 25]\n",
      "Setelah :  [8, 12, 16, 17, 25, 57]\n"
     ]
    }
   ],
   "source": [
    "arr = [17,12,57,8,16,25]\n",
    "print(\"Sebelum : \",arr)\n",
    "quickSort(arr,0,len(arr)-1)\n",
    "print(\"Setelah : \",arr)"
   ]
  },
  {
   "cell_type": "code",
   "execution_count": null,
   "metadata": {},
   "outputs": [],
   "source": []
  }
 ],
 "metadata": {
  "kernelspec": {
   "display_name": "Python 3",
   "language": "python",
   "name": "python3"
  },
  "language_info": {
   "codemirror_mode": {
    "name": "ipython",
    "version": 3
   },
   "file_extension": ".py",
   "mimetype": "text/x-python",
   "name": "python",
   "nbconvert_exporter": "python",
   "pygments_lexer": "ipython3",
   "version": "3.8.3"
  }
 },
 "nbformat": 4,
 "nbformat_minor": 4
}
